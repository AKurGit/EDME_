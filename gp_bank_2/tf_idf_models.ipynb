{
 "cells": [
  {
   "cell_type": "code",
   "execution_count": 5,
   "id": "1cbe9a9b",
   "metadata": {},
   "outputs": [
    {
     "name": "stderr",
     "output_type": "stream",
     "text": [
      "[nltk_data] Downloading package wordnet to\n",
      "[nltk_data]     C:\\Users\\Casio\\AppData\\Roaming\\nltk_data...\n",
      "[nltk_data]   Package wordnet is already up-to-date!\n",
      "[nltk_data] Downloading package stopwords to\n",
      "[nltk_data]     C:\\Users\\Casio\\AppData\\Roaming\\nltk_data...\n",
      "[nltk_data]   Package stopwords is already up-to-date!\n"
     ]
    }
   ],
   "source": [
    "import nltk\n",
    "from nltk.tokenize import word_tokenize\n",
    "from nltk.corpus import stopwords\n",
    "from nltk.corpus import wordnet\n",
    "from nltk.stem import WordNetLemmatizer\n",
    "nltk.download('wordnet')\n",
    "nltk.download('stopwords')\n",
    "\n",
    "import numpy as np\n",
    "from keras.optimizers import SGD\n",
    "import random\n",
    "import pandas as pd\n",
    "import re, string\n",
    "\n",
    "from sklearn.feature_extraction.text import TfidfVectorizer\n",
    "from sklearn.neighbors import NearestNeighbors, KNeighborsClassifier\n",
    "from sklearn.model_selection import train_test_split\n",
    "from sklearn.metrics import accuracy_score\n",
    "from sklearn.multioutput import MultiOutputClassifier\n"
   ]
  },
  {
   "cell_type": "code",
   "execution_count": 6,
   "id": "bd63dccd",
   "metadata": {},
   "outputs": [
    {
     "data": {
      "text/html": [
       "<div>\n",
       "<style scoped>\n",
       "    .dataframe tbody tr th:only-of-type {\n",
       "        vertical-align: middle;\n",
       "    }\n",
       "\n",
       "    .dataframe tbody tr th {\n",
       "        vertical-align: top;\n",
       "    }\n",
       "\n",
       "    .dataframe thead th {\n",
       "        text-align: right;\n",
       "    }\n",
       "</style>\n",
       "<table border=\"1\" class=\"dataframe\">\n",
       "  <thead>\n",
       "    <tr style=\"text-align: right;\">\n",
       "      <th></th>\n",
       "      <th>Unnamed: 0</th>\n",
       "      <th>Question</th>\n",
       "      <th>Topic</th>\n",
       "      <th>Answer</th>\n",
       "    </tr>\n",
       "  </thead>\n",
       "  <tbody>\n",
       "    <tr>\n",
       "      <th>0</th>\n",
       "      <td>0</td>\n",
       "      <td>Какие банковские продукты предлагает банк?</td>\n",
       "      <td>Карта</td>\n",
       "      <td>Наш банк предлагает оформление виртуальных, пр...</td>\n",
       "    </tr>\n",
       "    <tr>\n",
       "      <th>1</th>\n",
       "      <td>1</td>\n",
       "      <td>Какие премиальные карты предлагает банк?</td>\n",
       "      <td>Карта</td>\n",
       "      <td>Наш банк предлагает оформление следующих преми...</td>\n",
       "    </tr>\n",
       "    <tr>\n",
       "      <th>2</th>\n",
       "      <td>2</td>\n",
       "      <td>Какие виртуальные карты предлагает банк?</td>\n",
       "      <td>Карта</td>\n",
       "      <td>Наш банк предлагает оформление следующих вирту...</td>\n",
       "    </tr>\n",
       "    <tr>\n",
       "      <th>3</th>\n",
       "      <td>3</td>\n",
       "      <td>Какие расчетные карты предлагает банк?</td>\n",
       "      <td>Карта</td>\n",
       "      <td>Наш банк предлагает оформление следующих расче...</td>\n",
       "    </tr>\n",
       "    <tr>\n",
       "      <th>4</th>\n",
       "      <td>4</td>\n",
       "      <td>Предалагаете ли вы карточки для нерезидентов?</td>\n",
       "      <td>Карта</td>\n",
       "      <td>Наш банк предлагает оформление карточек для не...</td>\n",
       "    </tr>\n",
       "    <tr>\n",
       "      <th>...</th>\n",
       "      <td>...</td>\n",
       "      <td>...</td>\n",
       "      <td>...</td>\n",
       "      <td>...</td>\n",
       "    </tr>\n",
       "    <tr>\n",
       "      <th>194</th>\n",
       "      <td>194</td>\n",
       "      <td>Банкоматы в Заводском районе Минска?</td>\n",
       "      <td>Адрес</td>\n",
       "      <td>г. Минск улица Притыцкого 79, г. Минск улица ...</td>\n",
       "    </tr>\n",
       "    <tr>\n",
       "      <th>195</th>\n",
       "      <td>195</td>\n",
       "      <td>Банкоматы в Ленинском районе Минска?</td>\n",
       "      <td>Адрес</td>\n",
       "      <td>г. Минск улица Притыцкого 79, г. Минск улица ...</td>\n",
       "    </tr>\n",
       "    <tr>\n",
       "      <th>196</th>\n",
       "      <td>196</td>\n",
       "      <td>Банкоматы в Октябрьском районе Минска?</td>\n",
       "      <td>Адрес</td>\n",
       "      <td>г. Минск улица Притыцкого 79, г. Минск улица ...</td>\n",
       "    </tr>\n",
       "    <tr>\n",
       "      <th>197</th>\n",
       "      <td>197</td>\n",
       "      <td>Банкоматы в Московском районе Минска?</td>\n",
       "      <td>Адрес</td>\n",
       "      <td>г. Минск улица Притыцкого 79, г. Минск улица ...</td>\n",
       "    </tr>\n",
       "    <tr>\n",
       "      <th>198</th>\n",
       "      <td>198</td>\n",
       "      <td>Банкоматы во Фрунзенском районе Минска?</td>\n",
       "      <td>Адрес</td>\n",
       "      <td>г. Минск улица Притыцкого 79, г. Минск улица ...</td>\n",
       "    </tr>\n",
       "  </tbody>\n",
       "</table>\n",
       "<p>199 rows × 4 columns</p>\n",
       "</div>"
      ],
      "text/plain": [
       "     Unnamed: 0                                       Question  Topic  \\\n",
       "0             0     Какие банковские продукты предлагает банк?  Карта   \n",
       "1             1       Какие премиальные карты предлагает банк?  Карта   \n",
       "2             2       Какие виртуальные карты предлагает банк?  Карта   \n",
       "3             3         Какие расчетные карты предлагает банк?  Карта   \n",
       "4             4  Предалагаете ли вы карточки для нерезидентов?  Карта   \n",
       "..          ...                                            ...    ...   \n",
       "194         194           Банкоматы в Заводском районе Минска?  Адрес   \n",
       "195         195           Банкоматы в Ленинском районе Минска?  Адрес   \n",
       "196         196         Банкоматы в Октябрьском районе Минска?  Адрес   \n",
       "197         197          Банкоматы в Московском районе Минска?  Адрес   \n",
       "198         198        Банкоматы во Фрунзенском районе Минска?  Адрес   \n",
       "\n",
       "                                                Answer  \n",
       "0    Наш банк предлагает оформление виртуальных, пр...  \n",
       "1    Наш банк предлагает оформление следующих преми...  \n",
       "2    Наш банк предлагает оформление следующих вирту...  \n",
       "3    Наш банк предлагает оформление следующих расче...  \n",
       "4    Наш банк предлагает оформление карточек для не...  \n",
       "..                                                 ...  \n",
       "194   г. Минск улица Притыцкого 79, г. Минск улица ...  \n",
       "195   г. Минск улица Притыцкого 79, г. Минск улица ...  \n",
       "196   г. Минск улица Притыцкого 79, г. Минск улица ...  \n",
       "197   г. Минск улица Притыцкого 79, г. Минск улица ...  \n",
       "198   г. Минск улица Притыцкого 79, г. Минск улица ...  \n",
       "\n",
       "[199 rows x 4 columns]"
      ]
     },
     "execution_count": 6,
     "metadata": {},
     "output_type": "execute_result"
    }
   ],
   "source": [
    "df = pd.read_csv(r\"C:\\Users\\Casio\\miniconda3\\envs\\gp_bank_2\\data\\fqa.csv\")\n",
    "df                "
   ]
  },
  {
   "cell_type": "code",
   "execution_count": 7,
   "id": "9c503453",
   "metadata": {},
   "outputs": [],
   "source": [
    "def preprocess(text):\n",
    "    text = text.lower() \n",
    "    text = text.strip()  \n",
    "    text = re.compile('<.*?>').sub('', text) \n",
    "    text = re.compile('[%s]' % re.escape(string.punctuation)).sub(' ', text)  \n",
    "    text = re.sub('\\s+', ' ', text)  \n",
    "    text = re.sub(r'\\[[0-9]*\\]',' ',text) \n",
    "    text = re.sub(r'[^\\w\\s]', '', str(text).lower().strip())\n",
    "    text = re.sub(r'\\d',' ',text) \n",
    "    text = re.sub(r'\\s+',' ',text) \n",
    "    return text\n",
    "\n",
    "def stopword(string):\n",
    "    a= [i for i in string.split() if i not in stopwords.words('russian')]\n",
    "    return ' '.join(a)\n",
    "\n",
    "wl = WordNetLemmatizer()\n",
    "\n",
    "def get_wordnet_pos(tag):\n",
    "    if tag.startswith('J'):\n",
    "        return wordnet.ADJ\n",
    "    elif tag.startswith('V'):\n",
    "        return wordnet.VERB\n",
    "    elif tag.startswith('N'):\n",
    "        return wordnet.NOUN\n",
    "    elif tag.startswith('R'):\n",
    "        return wordnet.ADV\n",
    "    else:\n",
    "        return wordnet.NOUN\n",
    "\n",
    "def lemmatizer(string):\n",
    "    word_pos_tags = nltk.pos_tag(word_tokenize(string)) \n",
    "    a=[wl.lemmatize(tag[0], get_wordnet_pos(tag[1])) for idx, tag in enumerate(word_pos_tags)] \n",
    "    return \" \".join(a)\n",
    "\n",
    "def finalpreprocess(string):\n",
    "    return lemmatizer(stopword(preprocess(string)))"
   ]
  },
  {
   "cell_type": "code",
   "execution_count": 8,
   "id": "93fd0aa3",
   "metadata": {},
   "outputs": [
    {
     "data": {
      "text/html": [
       "<div>\n",
       "<style scoped>\n",
       "    .dataframe tbody tr th:only-of-type {\n",
       "        vertical-align: middle;\n",
       "    }\n",
       "\n",
       "    .dataframe tbody tr th {\n",
       "        vertical-align: top;\n",
       "    }\n",
       "\n",
       "    .dataframe thead th {\n",
       "        text-align: right;\n",
       "    }\n",
       "</style>\n",
       "<table border=\"1\" class=\"dataframe\">\n",
       "  <thead>\n",
       "    <tr style=\"text-align: right;\">\n",
       "      <th></th>\n",
       "      <th>Unnamed: 0</th>\n",
       "      <th>Question</th>\n",
       "      <th>Topic</th>\n",
       "      <th>Answer</th>\n",
       "      <th>clean_question</th>\n",
       "    </tr>\n",
       "  </thead>\n",
       "  <tbody>\n",
       "    <tr>\n",
       "      <th>0</th>\n",
       "      <td>0</td>\n",
       "      <td>Какие банковские продукты предлагает банк?</td>\n",
       "      <td>Карта</td>\n",
       "      <td>Наш банк предлагает оформление виртуальных, пр...</td>\n",
       "      <td>какие банковские продукты предлагает банк</td>\n",
       "    </tr>\n",
       "    <tr>\n",
       "      <th>1</th>\n",
       "      <td>1</td>\n",
       "      <td>Какие премиальные карты предлагает банк?</td>\n",
       "      <td>Карта</td>\n",
       "      <td>Наш банк предлагает оформление следующих преми...</td>\n",
       "      <td>какие премиальные карты предлагает банк</td>\n",
       "    </tr>\n",
       "    <tr>\n",
       "      <th>2</th>\n",
       "      <td>2</td>\n",
       "      <td>Какие виртуальные карты предлагает банк?</td>\n",
       "      <td>Карта</td>\n",
       "      <td>Наш банк предлагает оформление следующих вирту...</td>\n",
       "      <td>какие виртуальные карты предлагает банк</td>\n",
       "    </tr>\n",
       "    <tr>\n",
       "      <th>3</th>\n",
       "      <td>3</td>\n",
       "      <td>Какие расчетные карты предлагает банк?</td>\n",
       "      <td>Карта</td>\n",
       "      <td>Наш банк предлагает оформление следующих расче...</td>\n",
       "      <td>какие расчетные карты предлагает банк</td>\n",
       "    </tr>\n",
       "    <tr>\n",
       "      <th>4</th>\n",
       "      <td>4</td>\n",
       "      <td>Предалагаете ли вы карточки для нерезидентов?</td>\n",
       "      <td>Карта</td>\n",
       "      <td>Наш банк предлагает оформление карточек для не...</td>\n",
       "      <td>предалагаете карточки нерезидентов</td>\n",
       "    </tr>\n",
       "  </tbody>\n",
       "</table>\n",
       "</div>"
      ],
      "text/plain": [
       "   Unnamed: 0                                       Question  Topic  \\\n",
       "0           0     Какие банковские продукты предлагает банк?  Карта   \n",
       "1           1       Какие премиальные карты предлагает банк?  Карта   \n",
       "2           2       Какие виртуальные карты предлагает банк?  Карта   \n",
       "3           3         Какие расчетные карты предлагает банк?  Карта   \n",
       "4           4  Предалагаете ли вы карточки для нерезидентов?  Карта   \n",
       "\n",
       "                                              Answer  \\\n",
       "0  Наш банк предлагает оформление виртуальных, пр...   \n",
       "1  Наш банк предлагает оформление следующих преми...   \n",
       "2  Наш банк предлагает оформление следующих вирту...   \n",
       "3  Наш банк предлагает оформление следующих расче...   \n",
       "4  Наш банк предлагает оформление карточек для не...   \n",
       "\n",
       "                              clean_question  \n",
       "0  какие банковские продукты предлагает банк  \n",
       "1    какие премиальные карты предлагает банк  \n",
       "2    какие виртуальные карты предлагает банк  \n",
       "3      какие расчетные карты предлагает банк  \n",
       "4         предалагаете карточки нерезидентов  "
      ]
     },
     "execution_count": 8,
     "metadata": {},
     "output_type": "execute_result"
    }
   ],
   "source": [
    "df['clean_question'] = df['Question'].apply(lambda x: finalpreprocess(x))\n",
    "df.head()"
   ]
  },
  {
   "cell_type": "code",
   "execution_count": 7,
   "id": "d3243c04",
   "metadata": {},
   "outputs": [],
   "source": [
    "from sklearn.feature_extraction.text import CountVectorizer\n",
    "cv = CountVectorizer()\n",
    "\n",
    "cv_quest = cv.fit_transform(df['clean_question']).toarray()"
   ]
  },
  {
   "cell_type": "code",
   "execution_count": 8,
   "id": "f823f4ea",
   "metadata": {},
   "outputs": [],
   "source": [
    "X = cv_quest\n",
    "y = df[\"Answer\"].values\n",
    "\n",
    "from sklearn.model_selection import train_test_split\n",
    "x_train, x_test, y_train, y_test = train_test_split(X, y, test_size = 0.35, random_state = 42)"
   ]
  },
  {
   "cell_type": "code",
   "execution_count": 9,
   "id": "8400d5ec",
   "metadata": {},
   "outputs": [
    {
     "data": {
      "text/plain": [
       "0.35714285714285715"
      ]
     },
     "execution_count": 9,
     "metadata": {},
     "output_type": "execute_result"
    }
   ],
   "source": [
    "from sklearn.naive_bayes import GaussianNB\n",
    "nb = GaussianNB()\n",
    "result_bayes = nb.fit(x_train, y_train)\n",
    "nb.score(x_test,y_test)"
   ]
  },
  {
   "cell_type": "code",
   "execution_count": 10,
   "id": "7d2eaf73",
   "metadata": {},
   "outputs": [
    {
     "data": {
      "text/plain": [
       "0.37142857142857144"
      ]
     },
     "execution_count": 10,
     "metadata": {},
     "output_type": "execute_result"
    }
   ],
   "source": [
    "from sklearn.linear_model import LogisticRegression\n",
    "lg = LogisticRegression()\n",
    "result_logreg = lg.fit(x_train, y_train)\n",
    "lg.score(x_test,y_test)"
   ]
  },
  {
   "cell_type": "code",
   "execution_count": 11,
   "id": "f3e2b24d",
   "metadata": {},
   "outputs": [
    {
     "data": {
      "text/plain": [
       "0.32857142857142857"
      ]
     },
     "execution_count": 11,
     "metadata": {},
     "output_type": "execute_result"
    }
   ],
   "source": [
    "from sklearn import svm\n",
    "svm = svm.SVC()\n",
    "result_svm = svm.fit(x_train, y_train)\n",
    "svm.score(x_test, y_test)"
   ]
  },
  {
   "cell_type": "code",
   "execution_count": 12,
   "id": "772b3223",
   "metadata": {},
   "outputs": [
    {
     "data": {
      "text/plain": [
       "0.3"
      ]
     },
     "execution_count": 12,
     "metadata": {},
     "output_type": "execute_result"
    }
   ],
   "source": [
    "from sklearn.tree import DecisionTreeClassifier\n",
    "from sklearn.ensemble import AdaBoostClassifier\n",
    "\n",
    "adamodelClf = AdaBoostClassifier(estimator=DecisionTreeClassifier(max_depth=2), n_estimators=100, random_state=42)\n",
    "\n",
    "adamodelclf_fit = adamodelClf.fit(x_train, y_train)\n",
    "adamodelClf.score(x_test, y_test)"
   ]
  },
  {
   "cell_type": "code",
   "execution_count": 13,
   "id": "3b7fcc4a",
   "metadata": {},
   "outputs": [
    {
     "data": {
      "text/plain": [
       "0.4"
      ]
     },
     "execution_count": 13,
     "metadata": {},
     "output_type": "execute_result"
    }
   ],
   "source": [
    "from sklearn.ensemble import GradientBoostingClassifier\n",
    "\n",
    "\n",
    "modelClf = GradientBoostingClassifier(max_depth=2, n_estimators=100,random_state=42, learning_rate=0.2)\n",
    "\n",
    "modelClf.fit(x_train, y_train)\n",
    "modelClf.score(x_test, y_test)"
   ]
  },
  {
   "cell_type": "code",
   "execution_count": 14,
   "id": "770196a9",
   "metadata": {},
   "outputs": [],
   "source": [
    "X_new = 'Какие карточки вы выпускаете?'\n",
    "clean_X_new = finalpreprocess(X_new)\n",
    "cv_new = cv.transform([clean_X_new]).toarray()\n",
    "Y_new = modelClf.predict(cv_new)[0]"
   ]
  },
  {
   "cell_type": "code",
   "execution_count": 15,
   "id": "6fb3d4f2",
   "metadata": {},
   "outputs": [
    {
     "data": {
      "text/plain": [
       "'БЕЛКАРТ-ПРЕМИУМ для нерезидентов предлагает следующие условия: Валюта текущего счета: BYN, Срок действия карты: до 5 лет, Выпуск карточки осуществляется в офисах ОАО «Белгазпромбанка», Возможность выпуска дополнительных карточек'"
      ]
     },
     "execution_count": 15,
     "metadata": {},
     "output_type": "execute_result"
    }
   ],
   "source": [
    "Y_new"
   ]
  },
  {
   "cell_type": "code",
   "execution_count": 16,
   "id": "b9e91351",
   "metadata": {},
   "outputs": [
    {
     "data": {
      "text/plain": [
       "((129, 182), (70, 182), (129,), (70,))"
      ]
     },
     "execution_count": 16,
     "metadata": {},
     "output_type": "execute_result"
    }
   ],
   "source": [
    "x_train.shape, x_test.shape, y_train.shape, y_test.shape"
   ]
  },
  {
   "cell_type": "code",
   "execution_count": 109,
   "id": "428fd31c",
   "metadata": {},
   "outputs": [],
   "source": [
    "from sklearn.feature_extraction.text import TfidfVectorizer\n",
    "from sklearn.neighbors import NearestNeighbors\n",
    "\n",
    "tfidf_params = {\n",
    "    'analyzer': 'word',\n",
    "    'max_df': 0.99,\n",
    "    'binary': True,\n",
    "    'max_features': 1000}"
   ]
  },
  {
   "cell_type": "code",
   "execution_count": 120,
   "id": "90def878",
   "metadata": {},
   "outputs": [],
   "source": [
    "dist_params = {\n",
    "    'n_neighbors': 1,\n",
    "    'metric': 'cosine'}"
   ]
  },
  {
   "cell_type": "code",
   "execution_count": 121,
   "id": "12429f1d",
   "metadata": {},
   "outputs": [],
   "source": [
    "vectorizer = TfidfVectorizer(**tfidf_params)\n",
    "dist = NearestNeighbors(**dist_params)"
   ]
  },
  {
   "cell_type": "code",
   "execution_count": 122,
   "id": "04afbd06",
   "metadata": {},
   "outputs": [
    {
     "data": {
      "text/html": [
       "<style>#sk-container-id-4 {color: black;background-color: white;}#sk-container-id-4 pre{padding: 0;}#sk-container-id-4 div.sk-toggleable {background-color: white;}#sk-container-id-4 label.sk-toggleable__label {cursor: pointer;display: block;width: 100%;margin-bottom: 0;padding: 0.3em;box-sizing: border-box;text-align: center;}#sk-container-id-4 label.sk-toggleable__label-arrow:before {content: \"▸\";float: left;margin-right: 0.25em;color: #696969;}#sk-container-id-4 label.sk-toggleable__label-arrow:hover:before {color: black;}#sk-container-id-4 div.sk-estimator:hover label.sk-toggleable__label-arrow:before {color: black;}#sk-container-id-4 div.sk-toggleable__content {max-height: 0;max-width: 0;overflow: hidden;text-align: left;background-color: #f0f8ff;}#sk-container-id-4 div.sk-toggleable__content pre {margin: 0.2em;color: black;border-radius: 0.25em;background-color: #f0f8ff;}#sk-container-id-4 input.sk-toggleable__control:checked~div.sk-toggleable__content {max-height: 200px;max-width: 100%;overflow: auto;}#sk-container-id-4 input.sk-toggleable__control:checked~label.sk-toggleable__label-arrow:before {content: \"▾\";}#sk-container-id-4 div.sk-estimator input.sk-toggleable__control:checked~label.sk-toggleable__label {background-color: #d4ebff;}#sk-container-id-4 div.sk-label input.sk-toggleable__control:checked~label.sk-toggleable__label {background-color: #d4ebff;}#sk-container-id-4 input.sk-hidden--visually {border: 0;clip: rect(1px 1px 1px 1px);clip: rect(1px, 1px, 1px, 1px);height: 1px;margin: -1px;overflow: hidden;padding: 0;position: absolute;width: 1px;}#sk-container-id-4 div.sk-estimator {font-family: monospace;background-color: #f0f8ff;border: 1px dotted black;border-radius: 0.25em;box-sizing: border-box;margin-bottom: 0.5em;}#sk-container-id-4 div.sk-estimator:hover {background-color: #d4ebff;}#sk-container-id-4 div.sk-parallel-item::after {content: \"\";width: 100%;border-bottom: 1px solid gray;flex-grow: 1;}#sk-container-id-4 div.sk-label:hover label.sk-toggleable__label {background-color: #d4ebff;}#sk-container-id-4 div.sk-serial::before {content: \"\";position: absolute;border-left: 1px solid gray;box-sizing: border-box;top: 0;bottom: 0;left: 50%;z-index: 0;}#sk-container-id-4 div.sk-serial {display: flex;flex-direction: column;align-items: center;background-color: white;padding-right: 0.2em;padding-left: 0.2em;position: relative;}#sk-container-id-4 div.sk-item {position: relative;z-index: 1;}#sk-container-id-4 div.sk-parallel {display: flex;align-items: stretch;justify-content: center;background-color: white;position: relative;}#sk-container-id-4 div.sk-item::before, #sk-container-id-4 div.sk-parallel-item::before {content: \"\";position: absolute;border-left: 1px solid gray;box-sizing: border-box;top: 0;bottom: 0;left: 50%;z-index: -1;}#sk-container-id-4 div.sk-parallel-item {display: flex;flex-direction: column;z-index: 1;position: relative;background-color: white;}#sk-container-id-4 div.sk-parallel-item:first-child::after {align-self: flex-end;width: 50%;}#sk-container-id-4 div.sk-parallel-item:last-child::after {align-self: flex-start;width: 50%;}#sk-container-id-4 div.sk-parallel-item:only-child::after {width: 0;}#sk-container-id-4 div.sk-dashed-wrapped {border: 1px dashed gray;margin: 0 0.4em 0.5em 0.4em;box-sizing: border-box;padding-bottom: 0.4em;background-color: white;}#sk-container-id-4 div.sk-label label {font-family: monospace;font-weight: bold;display: inline-block;line-height: 1.2em;}#sk-container-id-4 div.sk-label-container {text-align: center;}#sk-container-id-4 div.sk-container {/* jupyter's `normalize.less` sets `[hidden] { display: none; }` but bootstrap.min.css set `[hidden] { display: none !important; }` so we also need the `!important` here to be able to override the default hidden behavior on the sphinx rendered scikit-learn.org. See: https://github.com/scikit-learn/scikit-learn/issues/21755 */display: inline-block !important;position: relative;}#sk-container-id-4 div.sk-text-repr-fallback {display: none;}</style><div id=\"sk-container-id-4\" class=\"sk-top-container\"><div class=\"sk-text-repr-fallback\"><pre>NearestNeighbors(metric=&#x27;cosine&#x27;, n_neighbors=1)</pre><b>In a Jupyter environment, please rerun this cell to show the HTML representation or trust the notebook. <br />On GitHub, the HTML representation is unable to render, please try loading this page with nbviewer.org.</b></div><div class=\"sk-container\" hidden><div class=\"sk-item\"><div class=\"sk-estimator sk-toggleable\"><input class=\"sk-toggleable__control sk-hidden--visually\" id=\"sk-estimator-id-4\" type=\"checkbox\" checked><label for=\"sk-estimator-id-4\" class=\"sk-toggleable__label sk-toggleable__label-arrow\">NearestNeighbors</label><div class=\"sk-toggleable__content\"><pre>NearestNeighbors(metric=&#x27;cosine&#x27;, n_neighbors=1)</pre></div></div></div></div></div>"
      ],
      "text/plain": [
       "NearestNeighbors(metric='cosine', n_neighbors=1)"
      ]
     },
     "execution_count": 122,
     "metadata": {},
     "output_type": "execute_result"
    }
   ],
   "source": [
    "X = vectorizer.fit_transform(df['Question'])\n",
    "dist.fit(X, df['Answer'])"
   ]
  },
  {
   "cell_type": "code",
   "execution_count": 123,
   "id": "47064a00",
   "metadata": {},
   "outputs": [],
   "source": [
    "def transform_text(vectorizer, text):\n",
    "    print('Text:', text)\n",
    "    vector = vectorizer.transform([text])\n",
    "    vector = vectorizer.inverse_transform(vector)\n",
    "    print('Vect:', vector)"
   ]
  },
  {
   "cell_type": "code",
   "execution_count": 124,
   "id": "f99d5f65",
   "metadata": {},
   "outputs": [],
   "source": [
    "X_new = 'какие карты для нерезидентов есть в вашем банке?'\n",
    "X = vectorizer.transform([X_new])\n",
    "dist_num = dist.kneighbors(X, return_distance=False)[0][0]\n",
    "selected = df.iloc[dist_num]['Answer']"
   ]
  },
  {
   "cell_type": "code",
   "execution_count": 125,
   "id": "0514f99b",
   "metadata": {},
   "outputs": [
    {
     "name": "stdout",
     "output_type": "stream",
     "text": [
      "Text: Наш банк оформляет карточки платежной системы Mastercard: Виртуальная карточка Mastercard Gold, Расчетная карточка Mastercard Standard, Премиальная карточка Mastercard Black Edition, Премиальная карточка Mastercard World, Премиальная карточка Masterсard Gold, Mastercard World Elite, «Карта учредителя» Mastercard Gold, Masterсard Gold «Профи», Masterсard Gold для нерезидентов\n",
      "Vect: [array(['учредителя', 'профи', 'платежной', 'нерезидентов', 'карточки',\n",
      "       'карта', 'для', 'банк', 'world', 'standard', 'masterсard',\n",
      "       'mastercard', 'gold', 'elite', 'edition', 'black'], dtype='<U15')]\n"
     ]
    }
   ],
   "source": [
    "y_pred = transform_text(vectorizer, selected)\n",
    "y_pred"
   ]
  },
  {
   "cell_type": "code",
   "execution_count": 4,
   "id": "1812830f",
   "metadata": {},
   "outputs": [],
   "source": [
    "class TfidfModel():\n",
    "    \n",
    "    def __init__(self, max_df=0.95, random_state = 42):\n",
    "        self.vectorizer = TfidfVectorizer(max_df=max_df)\n",
    "        self.classifier = GradientBoostingClassifier(max_depth=2, n_estimators=1000,random_state=42, learning_rate=0.1)\n",
    "        \n",
    "        \n",
    "    def fit (self, X, y):\n",
    "        x_tfidf = self.vectorizer.fit_transform(X)\n",
    "        self.classifier.fit(x_tfidf, y)\n",
    "        \n",
    "    def predict (self, X):\n",
    "        x_tfidf = self.vectorizer.transform(X)\n",
    "        return self.classifier.predict(x_tfidf)\n",
    "    \n",
    "    def score (self, X, y):\n",
    "        y_pred = self.predict(X)\n",
    "        return accuracy_score (y, y_pred)"
   ]
  },
  {
   "cell_type": "code",
   "execution_count": 58,
   "id": "914273b6",
   "metadata": {},
   "outputs": [],
   "source": [
    "X_train, X_test, y_train, y_test = train_test_split(df['clean_question'], df['Answer'], test_size=0.2, random_state=42)"
   ]
  },
  {
   "cell_type": "code",
   "execution_count": 8,
   "id": "52d6f3dd",
   "metadata": {},
   "outputs": [],
   "source": [
    "from sklearn.ensemble import GradientBoostingClassifier\n",
    "from sklearn.feature_extraction.text import TfidfVectorizer\n",
    "from sklearn.neighbors import NearestNeighbors\n",
    "\n",
    "model = TfidfModel()\n",
    "model.fit(X_train,y_train)"
   ]
  },
  {
   "cell_type": "code",
   "execution_count": 9,
   "id": "013561e5",
   "metadata": {},
   "outputs": [
    {
     "data": {
      "text/html": [
       "<div>\n",
       "<style scoped>\n",
       "    .dataframe tbody tr th:only-of-type {\n",
       "        vertical-align: middle;\n",
       "    }\n",
       "\n",
       "    .dataframe tbody tr th {\n",
       "        vertical-align: top;\n",
       "    }\n",
       "\n",
       "    .dataframe thead th {\n",
       "        text-align: right;\n",
       "    }\n",
       "</style>\n",
       "<table border=\"1\" class=\"dataframe\">\n",
       "  <thead>\n",
       "    <tr style=\"text-align: right;\">\n",
       "      <th></th>\n",
       "      <th>Question</th>\n",
       "      <th>predict_answer</th>\n",
       "    </tr>\n",
       "  </thead>\n",
       "  <tbody>\n",
       "    <tr>\n",
       "      <th>82</th>\n",
       "      <td>Поддерживает ли карта UnionPay Platinum бескон...</td>\n",
       "      <td>Валюта текущего счета премиальной карточки Vis...</td>\n",
       "    </tr>\n",
       "    <tr>\n",
       "      <th>15</th>\n",
       "      <td>Какой срок действия по карте Cashalot?</td>\n",
       "      <td>Срок действия премиальной карточки Visa Gold д...</td>\n",
       "    </tr>\n",
       "    <tr>\n",
       "      <th>111</th>\n",
       "      <td>Какие условия кредитования предлагаются пользо...</td>\n",
       "      <td>Индивидуальные условия кредитования в банке</td>\n",
       "    </tr>\n",
       "    <tr>\n",
       "      <th>177</th>\n",
       "      <td>Есть ли карты с технологией бесконтактных плат...</td>\n",
       "      <td>Есть возможность подключения карточки к платеж...</td>\n",
       "    </tr>\n",
       "    <tr>\n",
       "      <th>76</th>\n",
       "      <td>Можно ли подключить  Mastercard Black Edition ...</td>\n",
       "      <td>Есть возможность подключения карточки к платеж...</td>\n",
       "    </tr>\n",
       "  </tbody>\n",
       "</table>\n",
       "</div>"
      ],
      "text/plain": [
       "                                              Question  \\\n",
       "82   Поддерживает ли карта UnionPay Platinum бескон...   \n",
       "15             Какой срок действия по карте Cashalot?    \n",
       "111  Какие условия кредитования предлагаются пользо...   \n",
       "177  Есть ли карты с технологией бесконтактных плат...   \n",
       "76   Можно ли подключить  Mastercard Black Edition ...   \n",
       "\n",
       "                                        predict_answer  \n",
       "82   Валюта текущего счета премиальной карточки Vis...  \n",
       "15   Срок действия премиальной карточки Visa Gold д...  \n",
       "111        Индивидуальные условия кредитования в банке  \n",
       "177  Есть возможность подключения карточки к платеж...  \n",
       "76   Есть возможность подключения карточки к платеж...  "
      ]
     },
     "execution_count": 9,
     "metadata": {},
     "output_type": "execute_result"
    }
   ],
   "source": [
    "df_pred = pd.DataFrame(X_test)\n",
    "df_pred['predict_answer'] = model.predict(df_pred['clean_question'])\n",
    "df_pred.head(5)"
   ]
  },
  {
   "cell_type": "code",
   "execution_count": 10,
   "id": "58c03466",
   "metadata": {},
   "outputs": [
    {
     "data": {
      "text/plain": [
       "0.35"
      ]
     },
     "execution_count": 10,
     "metadata": {},
     "output_type": "execute_result"
    }
   ],
   "source": [
    "accuracy = model.score(X_test, y_test)\n",
    "accuracy"
   ]
  },
  {
   "cell_type": "code",
   "execution_count": 11,
   "id": "6fa8cbbf",
   "metadata": {},
   "outputs": [],
   "source": [
    "class TfidfModel_knn():\n",
    "    \n",
    "    def __init__(self, max_df=0.99, random_state = 42):\n",
    "        self.vectorizer = TfidfVectorizer(max_df=max_df)\n",
    "        self.classifier = MultiOutputClassifier(KNeighborsClassifier (n_neighbors = 1,metric = 'cosine'))\n",
    "        \n",
    "        \n",
    "    def fit (self, X, y):\n",
    "        x_tfidf = self.vectorizer.fit_transform(X)\n",
    "        self.classifier.fit(x_tfidf, y)\n",
    "        \n",
    "    def predict (self, X):\n",
    "        x_tfidf = self.vectorizer.transform(X)\n",
    "        indices = self.classifier.predict(x_tfidf)\n",
    "        return indices\n",
    "    \n",
    "    def score (self, X, y):\n",
    "        y_pred = self.predict(X)\n",
    "        return accuracy_score (y, y_pred)"
   ]
  },
  {
   "cell_type": "code",
   "execution_count": 12,
   "id": "a2863767",
   "metadata": {},
   "outputs": [],
   "source": [
    "model_knn = TfidfModel_knn()\n",
    "y_train = y_train.values.reshape(-1, 1)\n",
    "model_knn.fit(X_train,y_train)"
   ]
  },
  {
   "cell_type": "code",
   "execution_count": 13,
   "id": "38b2c127",
   "metadata": {},
   "outputs": [
    {
     "data": {
      "text/html": [
       "<div>\n",
       "<style scoped>\n",
       "    .dataframe tbody tr th:only-of-type {\n",
       "        vertical-align: middle;\n",
       "    }\n",
       "\n",
       "    .dataframe tbody tr th {\n",
       "        vertical-align: top;\n",
       "    }\n",
       "\n",
       "    .dataframe thead th {\n",
       "        text-align: right;\n",
       "    }\n",
       "</style>\n",
       "<table border=\"1\" class=\"dataframe\">\n",
       "  <thead>\n",
       "    <tr style=\"text-align: right;\">\n",
       "      <th></th>\n",
       "      <th>Question</th>\n",
       "      <th>predict_answer</th>\n",
       "    </tr>\n",
       "  </thead>\n",
       "  <tbody>\n",
       "    <tr>\n",
       "      <th>82</th>\n",
       "      <td>Поддерживает ли карта UnionPay Platinum бескон...</td>\n",
       "      <td>Валюта текущего счета премиальной карточки Uni...</td>\n",
       "    </tr>\n",
       "    <tr>\n",
       "      <th>15</th>\n",
       "      <td>Какой срок действия по карте Cashalot?</td>\n",
       "      <td>Срок действия виртуальной карты Cashalot до 5 лет</td>\n",
       "    </tr>\n",
       "    <tr>\n",
       "      <th>111</th>\n",
       "      <td>Какие условия кредитования предлагаются пользо...</td>\n",
       "      <td>Индивидуальные условия кредитования в банке</td>\n",
       "    </tr>\n",
       "    <tr>\n",
       "      <th>177</th>\n",
       "      <td>Есть ли карты с технологией бесконтактных плат...</td>\n",
       "      <td>Включена программа «Бесценные города» с доступ...</td>\n",
       "    </tr>\n",
       "    <tr>\n",
       "      <th>76</th>\n",
       "      <td>Можно ли подключить  Mastercard Black Edition ...</td>\n",
       "      <td>Есть возможность подключения карточки к платеж...</td>\n",
       "    </tr>\n",
       "  </tbody>\n",
       "</table>\n",
       "</div>"
      ],
      "text/plain": [
       "                                              Question  \\\n",
       "82   Поддерживает ли карта UnionPay Platinum бескон...   \n",
       "15             Какой срок действия по карте Cashalot?    \n",
       "111  Какие условия кредитования предлагаются пользо...   \n",
       "177  Есть ли карты с технологией бесконтактных плат...   \n",
       "76   Можно ли подключить  Mastercard Black Edition ...   \n",
       "\n",
       "                                        predict_answer  \n",
       "82   Валюта текущего счета премиальной карточки Uni...  \n",
       "15   Срок действия виртуальной карты Cashalot до 5 лет  \n",
       "111        Индивидуальные условия кредитования в банке  \n",
       "177  Включена программа «Бесценные города» с доступ...  \n",
       "76   Есть возможность подключения карточки к платеж...  "
      ]
     },
     "execution_count": 13,
     "metadata": {},
     "output_type": "execute_result"
    }
   ],
   "source": [
    "df_pred_knn = pd.DataFrame(X_test)\n",
    "df_pred_knn['predict_answer'] = model_knn.predict(df_pred_knn['clean_question']).flatten()\n",
    "df_pred_knn.head(5)"
   ]
  },
  {
   "cell_type": "code",
   "execution_count": 14,
   "id": "6e3ff000",
   "metadata": {},
   "outputs": [
    {
     "data": {
      "text/plain": [
       "0.35"
      ]
     },
     "execution_count": 14,
     "metadata": {},
     "output_type": "execute_result"
    }
   ],
   "source": [
    "accuracy = model_new.score(X_test, y_test)\n",
    "accuracy"
   ]
  },
  {
   "cell_type": "code",
   "execution_count": 14,
   "id": "6b058d6c",
   "metadata": {},
   "outputs": [],
   "source": [
    "import navec\n",
    "import numpy as np\n",
    "import pandas as pd\n",
    "import torch\n",
    "from sklearn.feature_extraction.text import TfidfVectorizer\n",
    "from sklearn.metrics.pairwise import cosine_similarity\n",
    "\n",
    "# Load the Navec model\n",
    "#navec = navec.load('navec_hudlit_v1_12B_500K_300d_100q.tar')"
   ]
  },
  {
   "cell_type": "code",
   "execution_count": 98,
   "id": "846a42c4",
   "metadata": {},
   "outputs": [],
   "source": [
    "import torchtext.vocab\n",
    "\n",
    "class TfidfModel_emdeding():\n",
    "    def __init__(self, max_df=0.99, random_state=42, embedding_path=None):\n",
    "        self.max_df = max_df\n",
    "        self.random_state = random_state\n",
    "        self.embedding_path = \"cc.ru.300.vec\"\n",
    "        self.vectorizer = TfidfVectorizer(max_df=max_df, vocabulary=self.load_embedding())\n",
    "        self.classifier = MultiOutputClassifier(KNeighborsClassifier(n_neighbors=5, metric='cosine'))\n",
    "\n",
    "    def load_embedding(self):\n",
    "        if self.embedding_path is None:\n",
    "            return None\n",
    "\n",
    "        embedding = torchtext.vocab.Vectors(self.embedding_path)\n",
    "\n",
    "        \n",
    "        vocab = embedding.stoi\n",
    "\n",
    "        return vocab\n",
    "\n",
    "    def fit(self, X, y):\n",
    "        x_tfidf = self.vectorizer.fit_transform(X)\n",
    "        self.classifier.fit(x_tfidf, y)\n",
    "\n",
    "    def predict(self, X):\n",
    "        x_tfidf = self.vectorizer.transform(X)\n",
    "        indices = self.classifier.predict(x_tfidf)\n",
    "        return indices\n",
    "\n",
    "    def score(self, X, y):\n",
    "        y_pred = self.predict(X)\n",
    "        return accuracy_score(y, y_pred)"
   ]
  },
  {
   "cell_type": "code",
   "execution_count": 99,
   "id": "0dd1cce7",
   "metadata": {},
   "outputs": [
    {
     "name": "stderr",
     "output_type": "stream",
     "text": [
      "C:\\Users\\Casio\\miniconda3\\envs\\project\\Lib\\site-packages\\sklearn\\feature_extraction\\text.py:1380: UserWarning: Upper case characters found in vocabulary while 'lowercase' is True. These entries will not be matched with any documents\n",
      "  warnings.warn(\n"
     ]
    }
   ],
   "source": [
    "model_em = TfidfModel_embedding()\n",
    "model_em.fit(X_train,y_train)"
   ]
  },
  {
   "cell_type": "code",
   "execution_count": 100,
   "id": "eb5e2412",
   "metadata": {},
   "outputs": [
    {
     "data": {
      "text/html": [
       "<div>\n",
       "<style scoped>\n",
       "    .dataframe tbody tr th:only-of-type {\n",
       "        vertical-align: middle;\n",
       "    }\n",
       "\n",
       "    .dataframe tbody tr th {\n",
       "        vertical-align: top;\n",
       "    }\n",
       "\n",
       "    .dataframe thead th {\n",
       "        text-align: right;\n",
       "    }\n",
       "</style>\n",
       "<table border=\"1\" class=\"dataframe\">\n",
       "  <thead>\n",
       "    <tr style=\"text-align: right;\">\n",
       "      <th></th>\n",
       "      <th>clean_question</th>\n",
       "      <th>predict_answer</th>\n",
       "    </tr>\n",
       "  </thead>\n",
       "  <tbody>\n",
       "    <tr>\n",
       "      <th>82</th>\n",
       "      <td>поддерживает карта unionpay platinum бесконтак...</td>\n",
       "      <td>Валюта текущего счета премиальной карточки Uni...</td>\n",
       "    </tr>\n",
       "    <tr>\n",
       "      <th>15</th>\n",
       "      <td>срок действия карте cashalot</td>\n",
       "      <td>Срок действия премиальной карточки Masterсard ...</td>\n",
       "    </tr>\n",
       "    <tr>\n",
       "      <th>111</th>\n",
       "      <td>какие условия кредитования предлагаются пользо...</td>\n",
       "      <td>Mastercard World Elite предлагает следующие ус...</td>\n",
       "    </tr>\n",
       "    <tr>\n",
       "      <th>177</th>\n",
       "      <td>карты технологией бесконтактных платежей</td>\n",
       "      <td>Наш банк оформляет карточки платежной системы ...</td>\n",
       "    </tr>\n",
       "    <tr>\n",
       "      <th>76</th>\n",
       "      <td>подключить mastercard black edition samsung pay</td>\n",
       "      <td>Есть возможность подключения карточки к платеж...</td>\n",
       "    </tr>\n",
       "  </tbody>\n",
       "</table>\n",
       "</div>"
      ],
      "text/plain": [
       "                                        clean_question  \\\n",
       "82   поддерживает карта unionpay platinum бесконтак...   \n",
       "15                        срок действия карте cashalot   \n",
       "111  какие условия кредитования предлагаются пользо...   \n",
       "177           карты технологией бесконтактных платежей   \n",
       "76     подключить mastercard black edition samsung pay   \n",
       "\n",
       "                                        predict_answer  \n",
       "82   Валюта текущего счета премиальной карточки Uni...  \n",
       "15   Срок действия премиальной карточки Masterсard ...  \n",
       "111  Mastercard World Elite предлагает следующие ус...  \n",
       "177  Наш банк оформляет карточки платежной системы ...  \n",
       "76   Есть возможность подключения карточки к платеж...  "
      ]
     },
     "execution_count": 100,
     "metadata": {},
     "output_type": "execute_result"
    }
   ],
   "source": [
    "df_pred_em = pd.DataFrame(X_test)\n",
    "df_pred_em['predict_answer'] = model_em.predict(df_pred_em['clean_question']).flatten()\n",
    "df_pred_em.head(5)"
   ]
  },
  {
   "cell_type": "code",
   "execution_count": 101,
   "id": "12dde6e8",
   "metadata": {},
   "outputs": [
    {
     "data": {
      "text/plain": [
       "0.35"
      ]
     },
     "execution_count": 101,
     "metadata": {},
     "output_type": "execute_result"
    }
   ],
   "source": [
    "accuracy = model_em.score(X_test, y_test)\n",
    "accuracy"
   ]
  },
  {
   "cell_type": "code",
   "execution_count": null,
   "id": "5daf9a79",
   "metadata": {},
   "outputs": [],
   "source": []
  }
 ],
 "metadata": {
  "kernelspec": {
   "display_name": "Python 3 (ipykernel)",
   "language": "python",
   "name": "python3"
  },
  "language_info": {
   "codemirror_mode": {
    "name": "ipython",
    "version": 3
   },
   "file_extension": ".py",
   "mimetype": "text/x-python",
   "name": "python",
   "nbconvert_exporter": "python",
   "pygments_lexer": "ipython3",
   "version": "3.11.3"
  }
 },
 "nbformat": 4,
 "nbformat_minor": 5
}
